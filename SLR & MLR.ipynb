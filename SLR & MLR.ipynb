{
  "cells": [
    {
      "cell_type": "markdown",
      "metadata": {
        "id": "0hlZ-Xqsm9Ws"
      },
      "source": [
        "# Linear Regression"
      ]
    },
    {
      "cell_type": "markdown",
      "metadata": {
        "id": "91MtCZiCm9XK"
      },
      "source": [
        "<img src='https://miro.medium.com/max/1400/1*2ZnDb5b6UtBZ41Wy90MTkw.jpeg'>"
      ]
    },
    {
      "cell_type": "markdown",
      "metadata": {
        "id": "yGImThc1m9XZ"
      },
      "source": [
        "# Metal rod expansion with different temperatures:\n",
        "\n",
        "We all know that when the temperature of a metal increases, it begins to expand. So, we experimented with exposing a metal rod to different temperatures and recorded its length as follows:\n",
        "\n",
        "x = [20,25,30,35,40,45,50,55,60,65]\n",
        "\n",
        "y = [0.5,1.8,5,6.2,6,6.5,7.8,9.4,9.8,10.9]"
      ]
    },
    {
      "cell_type": "code",
      "execution_count": 34,
      "metadata": {
        "id": "Yej4G5dMm9Xc"
      },
      "outputs": [],
      "source": [
        "import matplotlib.pyplot as plt\n",
        "import numpy as np"
      ]
    },
    {
      "cell_type": "code",
      "execution_count": 35,
      "metadata": {
        "id": "kGfOMIuGm9Xl"
      },
      "outputs": [],
      "source": [
        "x = np.array([20,25,30,35,40,45,50,55,60,65])\n",
        "y = np.array([0.5,1.8,5,6.2,6,6.5,7.8,9.4,9.8,10.9])\n",
        "x_test = np.linspace(20,65,num=100)"
      ]
    },
    {
      "cell_type": "code",
      "execution_count": 36,
      "metadata": {
        "id": "2cbH4fWnm9Xo"
      },
      "outputs": [],
      "source": [
        "# Simple linear regression\n",
        "def LR(x,y):\n",
        "    # Mean X and Y\n",
        "    mean_x = np.mean(x)\n",
        "    mean_y = np.mean(y)\n",
        "    # Total number of values\n",
        "    n = len(x)\n",
        "    # Using the formula to calculate 'a' and 'b'\n",
        "    numerator = 0\n",
        "    denomenator = 0\n",
        "    for i in range(n):\n",
        "        numerator += (x[i] - mean_x) * (y[i] - mean_y)\n",
        "        denomenator += (x[i] - mean_x) ** 2\n",
        "    a = numerator / denomenator\n",
        "    b = mean_y - (a * mean_x)\n",
        "#     print(\"Coefficients\")\n",
        "#     print(a, b)\n",
        "    return a,b"
      ]
    },
    {
      "cell_type": "markdown",
      "metadata": {
        "id": "urerXIeQm9Xs"
      },
      "source": [
        "# Linear regression"
      ]
    },
    {
      "cell_type": "code",
      "execution_count": 37,
      "metadata": {
        "colab": {
          "base_uri": "https://localhost:8080/",
          "height": 469
        },
        "id": "A8irSvR3m9Xv",
        "outputId": "7f29e2ef-e32e-4527-ac57-0ed70eb09c60"
      },
      "outputs": [
        {
          "name": "stdout",
          "output_type": "stream",
          "text": [
            "0.21442424242424246 -2.7230303030303054\n"
          ]
        },
        {
          "data": {
            "image/png": "[encoded data removed]",
            "text/plain": [
              "<Figure size 640x480 with 1 Axes>"
            ]
          },
          "metadata": {},
          "output_type": "display_data"
        }
      ],
      "source": [
        "a,b = LR(x,y)\n",
        "print(a,b)\n",
        "y_pred = a*x_test + b\n",
        "plt.title(\"Simple linear regression\")\n",
        "plt.plot(x_test,y_pred)\n",
        "plt.scatter(x,y);"
      ]
    },
    {
      "cell_type": "markdown",
      "metadata": {
        "id": "52b_n4f9m9X6"
      },
      "source": [
        "# 2. Multiple Linear Regression \"Polynomial\""
      ]
    },
    {
      "cell_type": "code",
      "execution_count": 38,
      "metadata": {
        "colab": {
          "base_uri": "https://localhost:8080/"
        },
        "id": "HziO6zoSpLcX",
        "outputId": "e891bce7-aad1-4f94-9a0c-5d0142604566"
      },
      "outputs": [
        {
          "data": {
            "text/plain": [
              "array([  8000,  15625,  27000,  42875,  64000,  91125, 125000, 166375,\n",
              "       216000, 274625], dtype=int32)"
            ]
          },
          "execution_count": 38,
          "metadata": {},
          "output_type": "execute_result"
        }
      ],
      "source": [
        "x**3"
      ]
    },
    {
      "cell_type": "code",
      "execution_count": 39,
      "metadata": {
        "id": "XtrJaNlbm9X-"
      },
      "outputs": [],
      "source": [
        "# Normal equation\n",
        "def calculate_w(x,y):\n",
        "    xt_x = x @ x.T\n",
        "    xt_x_inv = np.linalg.pinv(xt_x) #(3,3)\n",
        "    x_y = x @ y.reshape((10,1)) #(3,1)\n",
        "    w = xt_x_inv @ x_y #(3,1)\n",
        "\n",
        "    return w"
      ]
    },
    {
      "cell_type": "code",
      "execution_count": 40,
      "metadata": {
        "id": "HR3BXR7jm9X_"
      },
      "outputs": [],
      "source": [
        "def polynomial(x, degree):\n",
        "    x_pol = []\n",
        "    ## write your code\n",
        "    for i in range(1,degree+1):\n",
        "      x_pol.append(x**i)\n",
        "\n",
        "    x_pol.append(np.ones(len(x)))\n",
        "    return np.array(x_pol)"
      ]
    },
    {
      "cell_type": "code",
      "execution_count": 41,
      "metadata": {
        "id": "5OyZnpu3otWQ"
      },
      "outputs": [],
      "source": [
        "x_pol = polynomial(x,2)\n",
        "w = calculate_w(x_pol, y)"
      ]
    },
    {
      "cell_type": "code",
      "execution_count": 42,
      "metadata": {
        "colab": {
          "base_uri": "https://localhost:8080/"
        },
        "id": "z5dmaRLpo7Mf",
        "outputId": "356cc21b-9e24-4bbd-be11-921deac2d85a"
      },
      "outputs": [
        {
          "data": {
            "text/plain": [
              "(10, 3)"
            ]
          },
          "execution_count": 42,
          "metadata": {},
          "output_type": "execute_result"
        }
      ],
      "source": [
        "x_twst_pol = polynomial(x,2)\n",
        "x_pol.T.shape"
      ]
    },
    {
      "cell_type": "code",
      "execution_count": 43,
      "metadata": {
        "colab": {
          "base_uri": "https://localhost:8080/"
        },
        "id": "S0PRvbqlxOAl",
        "outputId": "2ddc5e02-4d39-47db-cd10-7b42a143d0a2"
      },
      "outputs": [
        {
          "data": {
            "text/plain": [
              "array([1., 1., 1., 1., 1., 1., 1., 1., 1., 1.])"
            ]
          },
          "execution_count": 43,
          "metadata": {},
          "output_type": "execute_result"
        }
      ],
      "source": [
        "np.ones(len(x))"
      ]
    },
    {
      "cell_type": "code",
      "execution_count": 45,
      "metadata": {
        "colab": {
          "base_uri": "https://localhost:8080/",
          "height": 487
        },
        "id": "YlJSwyAam9YA",
        "outputId": "e5359a25-2f30-40fe-d231-2df6b11793f4"
      },
      "outputs": [
        {
          "name": "stdout",
          "output_type": "stream",
          "text": [
            "Shape of x_test_pol (4, 100)\n",
            "Shape of W (4, 1)\n"
          ]
        },
        {
          "data": {
            "image/png": "[encoded data removed]",
            "text/plain": [
              "<Figure size 640x480 with 1 Axes>"
            ]
          },
          "metadata": {},
          "output_type": "display_data"
        }
      ],
      "source": [
        "degree = 3\n",
        "x_pol = polynomial(x, degree)\n",
        "w = calculate_w(x_pol, y)\n",
        "x_test_pol = polynomial(x_test, degree)\n",
        "print(\"Shape of x_test_pol\", x_test_pol.shape)\n",
        "print(\"Shape of W\", w.shape)\n",
        "y_pred = np.matmul(x_test_pol.T, w)\n",
        "\n",
        "plt.plot(x_test, y_pred)\n",
        "plt.title(f\"Polynomial regression with Degree {degree}\")\n",
        "plt.scatter(x,y);"
      ]
    }
  ],
  "metadata": {
    "colab": {
      "history_visible": true,
      "provenance": []
    },
    "kernelspec": {
      "display_name": "Python 3",
      "language": "python",
      "name": "python3"
    },
    "language_info": {
      "codemirror_mode": {
        "name": "ipython",
        "version": 3
      },
      "file_extension": ".py",
      "mimetype": "text/x-python",
      "name": "python",
      "nbconvert_exporter": "python",
      "pygments_lexer": "ipython3",
      "version": "3.11.7"
    }
  },
  "nbformat": 4,
  "nbformat_minor": 0
}
